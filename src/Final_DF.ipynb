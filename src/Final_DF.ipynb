{
 "cells": [
  {
   "cell_type": "code",
   "execution_count": 1,
   "metadata": {
    "collapsed": true
   },
   "outputs": [],
   "source": [
    "import pandas as pd\n",
    "import numpy as np\n",
    "pd.options.display.max_columns = None\n",
    "pd.options.display.max_info_rows = None\n",
    "from sklearn import linear_model\n",
    "from sklearn.model_selection import train_test_split\n",
    "%matplotlib inline \n",
    "import matplotlib.pyplot as plt\n",
    "plt.style.use('ggplot')\n",
    "from statsmodels.stats.outliers_influence import variance_inflation_factor\n",
    "from sklearn.model_selection import cross_val_predict\n",
    "from sklearn.multioutput import MultiOutputRegressor"
   ]
  },
  {
   "cell_type": "code",
   "execution_count": 2,
   "metadata": {
    "collapsed": true
   },
   "outputs": [],
   "source": [
    "pop = pd.read_csv(\"data/R_download/2014 - popchar.csv\")"
   ]
  },
  {
   "cell_type": "code",
   "execution_count": 4,
   "metadata": {
    "collapsed": false
   },
   "outputs": [],
   "source": [
    "#filter for columns of interest, assign DUPERSID as index for joining\n",
    "\n",
    "pop_df = pop.filter([\"DUPERSID\", \"SEX\",\"AGE14X\",\"RACEV1X\", \"INSCOV14\", \"PERWT14P\", \"VARPSU\",\n",
    "                    \"VARSTR\",\"MARRY14X\",\"EDRECODE\",\"REGION14\"], 1)\n",
    "pop_df.set_index(\"DUPERSID\", inplace = True)\n",
    "\n",
    "#print pop_df.shape, pop_df.info()"
   ]
  },
  {
   "cell_type": "code",
   "execution_count": null,
   "metadata": {
    "collapsed": true
   },
   "outputs": [],
   "source": [
    "#Outpatient file:\n",
    "outpatient = pd.read_csv(\"data/R_download/2014 - outpatient.csv\")\n",
    "\n",
    "#Filtering for clinical classification code of mood disorders\n",
    "#1-4X indicate the primary vs quaternary classification\n",
    "\n",
    "mood_outpat = outpatient[outpatient[\"OPCCC1X\"] == 657]\n",
    "mood_outpat_2 = outpatient[outpatient[\"OPCCC2X\"] == 657]\n",
    "mood_outpat_3 = outpatient[outpatient[\"OPCCC3X\"] == 657]\n",
    "mood_outpat_4 = outpatient[outpatient[\"OPCCC4X\"] == 657]\n",
    "\n",
    "#append the rows together\n",
    "mood_outpat_total = mood_outpat.append([mood_outpat_2, mood_outpat_3,mood_outpat_4])\n",
    "\n",
    "#total expenditure for event: facility plus doctor\n",
    "mood_outpat_total = mood_outpat_total.filter([\"DUPERSID\", \"OPXP14X\"], 1)\n",
    "mood_outpat_total = mood_outpat_total.groupby('DUPERSID').sum()\n",
    "\n",
    "#mood_outpat_total.head()"
   ]
  },
  {
   "cell_type": "code",
   "execution_count": null,
   "metadata": {
    "collapsed": true
   },
   "outputs": [],
   "source": [
    "#Office visit file: \n",
    "office = pd.read_csv(\"data/R_download/2014 - office.csv\")\n",
    "\n",
    "#Filtering for clinical classification code of mood disorders\n",
    "#1-4X indicate the primary vs quaternary classification\n",
    "\n",
    "mood_off = office[office[\"OBCCC1X\"] == 657]\n",
    "mood_off_2 = office[office[\"OBCCC2X\"] == 657]\n",
    "mood_off_3 = office[office[\"OBCCC3X\"] == 657]\n",
    "mood_off_4 = office[office[\"OBCCC4X\"] == 657]\n",
    "\n",
    "#append rows together\n",
    "mood_off_total = mood_off.append([mood_off_2, mood_off_3,mood_off_4])\n",
    "\n",
    "#sum of the 12 sources of payment for the office-based expenditures\n",
    "mood_off_total = mood_off_total.filter([\"DUPERSID\", \"OBXP14X\"], 1)\n",
    "mood_off_total = mood_off_total.groupby('DUPERSID').sum()\n"
   ]
  },
  {
   "cell_type": "code",
   "execution_count": null,
   "metadata": {
    "collapsed": true
   },
   "outputs": [],
   "source": [
    "con = pd.read_csv(\"data/R_download/2014 - conditions.csv\")\n",
    "hh = pd.read_csv(\"data/R_download/2014 - hh.csv\")\n",
    "inpatient = pd.read_csv(\"data/R_download/2014 - inpatient.csv\")\n",
    "\n",
    "\n",
    "rx = pd.read_csv('data/R_download/2014 - rx.csv')"
   ]
  }
 ],
 "metadata": {
  "anaconda-cloud": {},
  "kernelspec": {
   "display_name": "Python [conda root]",
   "language": "python",
   "name": "conda-root-py"
  },
  "language_info": {
   "codemirror_mode": {
    "name": "ipython",
    "version": 2
   },
   "file_extension": ".py",
   "mimetype": "text/x-python",
   "name": "python",
   "nbconvert_exporter": "python",
   "pygments_lexer": "ipython2",
   "version": "2.7.9"
  }
 },
 "nbformat": 4,
 "nbformat_minor": 1
}
